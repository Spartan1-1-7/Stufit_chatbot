{
 "cells": [
  {
   "cell_type": "markdown",
   "id": "a80b0ca9",
   "metadata": {},
   "source": [
    "#### Importing libraries"
   ]
  },
  {
   "cell_type": "code",
   "execution_count": 2,
   "id": "b2345a70",
   "metadata": {},
   "outputs": [
    {
     "name": "stderr",
     "output_type": "stream",
     "text": [
      "/home/arindam-shukla/anaconda3/envs/stufit_chatbot/lib/python3.12/site-packages/tqdm/auto.py:21: TqdmWarning: IProgress not found. Please update jupyter and ipywidgets. See https://ipywidgets.readthedocs.io/en/stable/user_install.html\n",
      "  from .autonotebook import tqdm as notebook_tqdm\n"
     ]
    }
   ],
   "source": [
    "import pandas as pd\n",
    "from sentence_transformers import SentenceTransformer\n",
    "import faiss\n",
    "import numpy as np\n",
    "import pickle\n",
    "import os\n"
   ]
  },
  {
   "cell_type": "markdown",
   "id": "afec6d26",
   "metadata": {},
   "source": [
    "#### Loading the .parquet file"
   ]
  },
  {
   "cell_type": "code",
   "execution_count": 4,
   "id": "24a698ea",
   "metadata": {},
   "outputs": [
    {
     "data": {
      "text/html": [
       "<div>\n",
       "<style scoped>\n",
       "    .dataframe tbody tr th:only-of-type {\n",
       "        vertical-align: middle;\n",
       "    }\n",
       "\n",
       "    .dataframe tbody tr th {\n",
       "        vertical-align: top;\n",
       "    }\n",
       "\n",
       "    .dataframe thead th {\n",
       "        text-align: right;\n",
       "    }\n",
       "</style>\n",
       "<table border=\"1\" class=\"dataframe\">\n",
       "  <thead>\n",
       "    <tr style=\"text-align: right;\">\n",
       "      <th></th>\n",
       "      <th>book_name</th>\n",
       "      <th>chunk_id</th>\n",
       "      <th>chunk_text</th>\n",
       "      <th>chunk_length</th>\n",
       "      <th>embedding</th>\n",
       "    </tr>\n",
       "  </thead>\n",
       "  <tbody>\n",
       "    <tr>\n",
       "      <th>0</th>\n",
       "      <td>C:/Users/Ayush Jindal/Downloads/ROUTINE BLOOD ...</td>\n",
       "      <td>C:/Users/Ayush_Jindal/Downloads/ROUTINE_BLOOD_...</td>\n",
       "      <td>Routine Blood Results Explained Routine Blood ...</td>\n",
       "      <td>495</td>\n",
       "      <td>[-0.033440527, 0.016502352, 0.006819937, 0.039...</td>\n",
       "    </tr>\n",
       "    <tr>\n",
       "      <th>1</th>\n",
       "      <td>C:/Users/Ayush Jindal/Downloads/ROUTINE BLOOD ...</td>\n",
       "      <td>C:/Users/Ayush_Jindal/Downloads/ROUTINE_BLOOD_...</td>\n",
       "      <td>book is available from the British Library Cop...</td>\n",
       "      <td>128</td>\n",
       "      <td>[-0.009590683, -0.026081773, -0.042963974, 0.0...</td>\n",
       "    </tr>\n",
       "    <tr>\n",
       "      <th>2</th>\n",
       "      <td>C:/Users/Ayush Jindal/Downloads/ROUTINE BLOOD ...</td>\n",
       "      <td>C:/Users/Ayush_Jindal/Downloads/ROUTINE_BLOOD_...</td>\n",
       "      <td>No pa rt of this book may be reproduced, store...</td>\n",
       "      <td>440</td>\n",
       "      <td>[0.007997773, 0.04616743, -0.07028714, -0.0291...</td>\n",
       "    </tr>\n",
       "    <tr>\n",
       "      <th>3</th>\n",
       "      <td>C:/Users/Ayush Jindal/Downloads/ROUTINE BLOOD ...</td>\n",
       "      <td>C:/Users/Ayush_Jindal/Downloads/ROUTINE_BLOOD_...</td>\n",
       "      <td>5 Part 2: Immunology Objectives and Scope .......</td>\n",
       "      <td>487</td>\n",
       "      <td>[-0.025172405, -0.029858258, -0.05281477, -0.0...</td>\n",
       "    </tr>\n",
       "    <tr>\n",
       "      <th>4</th>\n",
       "      <td>C:/Users/Ayush Jindal/Downloads/ROUTINE BLOOD ...</td>\n",
       "      <td>C:/Users/Ayush_Jindal/Downloads/ROUTINE_BLOOD_...</td>\n",
       "      <td>92 : Calcium, Bone, and Mu sculo-Skeletal Dise...</td>\n",
       "      <td>485</td>\n",
       "      <td>[-0.062301837, 0.054388817, -0.044433784, -0.0...</td>\n",
       "    </tr>\n",
       "  </tbody>\n",
       "</table>\n",
       "</div>"
      ],
      "text/plain": [
       "                                           book_name  \\\n",
       "0  C:/Users/Ayush Jindal/Downloads/ROUTINE BLOOD ...   \n",
       "1  C:/Users/Ayush Jindal/Downloads/ROUTINE BLOOD ...   \n",
       "2  C:/Users/Ayush Jindal/Downloads/ROUTINE BLOOD ...   \n",
       "3  C:/Users/Ayush Jindal/Downloads/ROUTINE BLOOD ...   \n",
       "4  C:/Users/Ayush Jindal/Downloads/ROUTINE BLOOD ...   \n",
       "\n",
       "                                            chunk_id  \\\n",
       "0  C:/Users/Ayush_Jindal/Downloads/ROUTINE_BLOOD_...   \n",
       "1  C:/Users/Ayush_Jindal/Downloads/ROUTINE_BLOOD_...   \n",
       "2  C:/Users/Ayush_Jindal/Downloads/ROUTINE_BLOOD_...   \n",
       "3  C:/Users/Ayush_Jindal/Downloads/ROUTINE_BLOOD_...   \n",
       "4  C:/Users/Ayush_Jindal/Downloads/ROUTINE_BLOOD_...   \n",
       "\n",
       "                                          chunk_text  chunk_length  \\\n",
       "0  Routine Blood Results Explained Routine Blood ...           495   \n",
       "1  book is available from the British Library Cop...           128   \n",
       "2  No pa rt of this book may be reproduced, store...           440   \n",
       "3  5 Part 2: Immunology Objectives and Scope .......           487   \n",
       "4  92 : Calcium, Bone, and Mu sculo-Skeletal Dise...           485   \n",
       "\n",
       "                                           embedding  \n",
       "0  [-0.033440527, 0.016502352, 0.006819937, 0.039...  \n",
       "1  [-0.009590683, -0.026081773, -0.042963974, 0.0...  \n",
       "2  [0.007997773, 0.04616743, -0.07028714, -0.0291...  \n",
       "3  [-0.025172405, -0.029858258, -0.05281477, -0.0...  \n",
       "4  [-0.062301837, 0.054388817, -0.044433784, -0.0...  "
      ]
     },
     "execution_count": 4,
     "metadata": {},
     "output_type": "execute_result"
    }
   ],
   "source": [
    "df = pd.read_parquet('vectorized_medical_book_chunks.parquet')\n",
    "df.head()\n"
   ]
  },
  {
   "cell_type": "markdown",
   "id": "68f9c8d5",
   "metadata": {},
   "source": [
    "#### Loading the chunk_text column for use"
   ]
  },
  {
   "cell_type": "code",
   "execution_count": 5,
   "id": "4650ef42",
   "metadata": {},
   "outputs": [
    {
     "name": "stdout",
     "output_type": "stream",
     "text": [
      "Loaded 58762 text chunks.\n"
     ]
    }
   ],
   "source": [
    "texts = df['chunk_text'].astype(str).tolist()\n",
    "print(f\"Loaded {len(texts)} text chunks.\")"
   ]
  },
  {
   "cell_type": "markdown",
   "id": "d9658b4b",
   "metadata": {},
   "source": [
    "#### Loading the embedding model"
   ]
  },
  {
   "cell_type": "code",
   "execution_count": 6,
   "id": "ffa7d645",
   "metadata": {},
   "outputs": [],
   "source": [
    "model = SentenceTransformer('all-MiniLM-L6-v2')"
   ]
  },
  {
   "cell_type": "markdown",
   "id": "a01192ce",
   "metadata": {},
   "source": [
    "#### Generating the embeddings"
   ]
  },
  {
   "cell_type": "code",
   "execution_count": 7,
   "id": "a6454137",
   "metadata": {},
   "outputs": [
    {
     "name": "stderr",
     "output_type": "stream",
     "text": [
      "Batches: 100%|██████████| 1837/1837 [01:15<00:00, 24.28it/s]\n"
     ]
    },
    {
     "name": "stdout",
     "output_type": "stream",
     "text": [
      "Generated embeddings of shape: (58762, 384)\n"
     ]
    }
   ],
   "source": [
    "embeddings = model.encode(texts, show_progress_bar=True, convert_to_numpy=True)\n",
    "print(\"Generated embeddings of shape:\", embeddings.shape)"
   ]
  },
  {
   "cell_type": "markdown",
   "id": "ec937a26",
   "metadata": {},
   "source": [
    "#### Creating a FAISS index from embeddings"
   ]
  },
  {
   "cell_type": "code",
   "execution_count": 8,
   "id": "f72926e3",
   "metadata": {},
   "outputs": [
    {
     "name": "stdout",
     "output_type": "stream",
     "text": [
      "FAISS index built with 58762 vectors.\n"
     ]
    }
   ],
   "source": [
    "dimension = embeddings.shape[1]\n",
    "index = faiss.IndexFlatL2(dimension)\n",
    "index.add(embeddings)\n",
    "\n",
    "print(f\"FAISS index built with {index.ntotal} vectors.\")"
   ]
  },
  {
   "cell_type": "markdown",
   "id": "c14d155b",
   "metadata": {},
   "source": [
    "#### saving the faiss index and metadata"
   ]
  },
  {
   "cell_type": "code",
   "execution_count": 11,
   "id": "e04917a4",
   "metadata": {},
   "outputs": [
    {
     "name": "stdout",
     "output_type": "stream",
     "text": [
      "Saved FAISS index and metadata (texts + lengths).\n"
     ]
    }
   ],
   "source": [
    "# Save FAISS index\n",
    "faiss.write_index(index, \"db_faiss/faiss_index_chunk_text.faiss\")\n",
    "\n",
    "# Save metadata (texts, and optionally chunk_length if needed later)\n",
    "with open(\"db_faiss/chunk_texts.pkl\", \"wb\") as f:\n",
    "    pickle.dump(texts, f)\n",
    "\n",
    "with open(\"db_faiss/chunk_lengths.pkl\", \"wb\") as f:\n",
    "    pickle.dump(df['chunk_length'].tolist(), f)\n",
    "\n",
    "print(\"Saved FAISS index and metadata (texts + lengths).\")"
   ]
  },
  {
   "cell_type": "markdown",
   "id": "9aa1452c",
   "metadata": {},
   "source": [
    "#### Test Search"
   ]
  },
  {
   "cell_type": "code",
   "execution_count": 12,
   "id": "45dfa804",
   "metadata": {},
   "outputs": [
    {
     "name": "stdout",
     "output_type": "stream",
     "text": [
      "Etiology Cardiac sources of chest pain: Ischemic / coronary heart disease —ACSs (STEMI, NSTEMI, UA), stable angina pectoris Ischemic/nonatherosclerotic—aortic stenosis, hypertrophic cardiomyopathy (HCM), severe systemic hypertension, right ventricular hypertension, aortic regurgitation, severe anemia, coronary vasospasm, anatomical abnormalities Inflammatory —pericarditis, infectious and autoimmune vasculitis Hyperadrenergic states —stress cardiomyopathy, severe hypertension, pheochromocytoma\n",
      "MYOCARDITIS Definition Myocarditis is an inflammatory disease of heart muscle due to infectious and noninfectious etiologies with potential long-term sequela of DCM.\n",
      "\n",
      "Most common etiology in developed countries is viral infection (coxsackie, echovirus, adenovirus, HIV, CMV, parvovirus B19), with rheumatic carditis, Trypanosoma cruzi (more likely to present as chronic cardiomyopathy), and bacterial infections still contributing substantially to cases in the developing world.\n",
      "Chest pain, dyspnea, syncope/sudden cardiac death, hypertension, and dyslipidemia are discussed and further subdivided by clinical presentation and diagnostic approach.\n",
      "\n",
      "CHEST PAIN Definition Coronary artery disease (CAD) is the most common form of heart disease and is the leading cause of mortality globally accounting for 13% of all deaths per year.\n",
      "\n",
      "In the United States alone, 370,000 people die annually from CAD.\n",
      "Aortic stenosis, aortic regurgitation ( Chap.\n",
      "\n",
      "236 ), pulmonary hypertension ( Chap.\n",
      "\n",
      "260 ), and hypertrophic cardiomyopathy ( Chap.\n",
      "\n",
      "238 ) must be excluded, since these disorders may cause angina in the absence of coronary atherosclerosis.\n",
      "\n",
      "Examination during an anginal attack is useful, since ischemia can cause transient left ventricular failure with the appearance of a third and/or fourth heart sound, a dyskinetic cardiac apex, mitral regurgitation, and even pulmonary edema.\n",
      "Source: British Medical Journal 2004, 328: 1028–9.\n",
      "\n",
      "Investigation of coronary atherosclerosis Coronary artery disease may be described in terms of a spectrum that progresses from minimal atheroma/stenosis to a full blown heart attack.\n",
      "\n",
      "Intermediate stages include stable and unstable angina, both being parts of the acute coronary syndromes.\n"
     ]
    }
   ],
   "source": [
    "# Load index\n",
    "index = faiss.read_index(\"db_faiss/faiss_index_chunk_text.faiss\")\n",
    "\n",
    "# Load texts\n",
    "with open(\"db_faiss/chunk_texts.pkl\", \"rb\") as f:\n",
    "    texts = pickle.load(f)\n",
    "\n",
    "# Embed and search\n",
    "query = \"what is heart attack\"\n",
    "query_embedding = model.encode([query])\n",
    "\n",
    "D, I = index.search(np.array(query_embedding), k=5)\n",
    "\n",
    "# Show top 5 matched chunks\n",
    "for idx in I[0]:\n",
    "    print(texts[idx])\n"
   ]
  },
  {
   "cell_type": "code",
   "execution_count": null,
   "id": "1e8a4702",
   "metadata": {},
   "outputs": [],
   "source": []
  }
 ],
 "metadata": {
  "kernelspec": {
   "display_name": "stufit_chatbot",
   "language": "python",
   "name": "python3"
  },
  "language_info": {
   "codemirror_mode": {
    "name": "ipython",
    "version": 3
   },
   "file_extension": ".py",
   "mimetype": "text/x-python",
   "name": "python",
   "nbconvert_exporter": "python",
   "pygments_lexer": "ipython3",
   "version": "3.12.11"
  }
 },
 "nbformat": 4,
 "nbformat_minor": 5
}
